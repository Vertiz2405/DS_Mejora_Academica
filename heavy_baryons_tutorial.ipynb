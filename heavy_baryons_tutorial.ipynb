{
 "cells": [
  {
   "cell_type": "markdown",
   "id": "89721a9f",
   "metadata": {},
   "source": [
    "# Tutorial de fenomenología de bariones pesados\n",
    "Author: Andres Ramirez-Morales (andres.ramirez@tec.mx)\n",
    "\n",
    "Bienvenido al tutorial de fenomenología de bariones pesados.\n",
    "En este tutorial se practicará como hacer ajustes de datos que vienen de experimentos de altas energías a un modelo parametrizado propuesto en nuestro artículo publicado *Physical Review D*. El objetivo es encontrar los parámetros del modelo que mejor describan los datos antes mencionados.\n",
    "\n",
    "https://journals.aps.org/prd/pdf/10.1103/PhysRevD.107.034031"
   ]
  },
  {
   "cell_type": "code",
   "execution_count": 6,
   "id": "8862eebb-d966-40f5-9aa6-87ed1abc9c34",
   "metadata": {},
   "outputs": [
    {
     "name": "stdout",
     "output_type": "stream",
     "text": [
      "Requirement already satisfied: numpy in c:\\users\\l01033936\\appdata\\local\\programs\\python\\python313\\lib\\site-packages (2.1.3)\n"
     ]
    },
    {
     "name": "stderr",
     "output_type": "stream",
     "text": [
      "\n",
      "[notice] A new release of pip is available: 24.2 -> 24.3.1\n",
      "[notice] To update, run: python.exe -m pip install --upgrade pip\n"
     ]
    },
    {
     "name": "stdout",
     "output_type": "stream",
     "text": [
      "Requirement already satisfied: pandas in c:\\users\\l01033936\\appdata\\local\\programs\\python\\python313\\lib\\site-packages (2.2.3)\n",
      "Requirement already satisfied: numpy>=1.26.0 in c:\\users\\l01033936\\appdata\\local\\programs\\python\\python313\\lib\\site-packages (from pandas) (2.1.3)\n",
      "Requirement already satisfied: python-dateutil>=2.8.2 in c:\\users\\l01033936\\appdata\\local\\programs\\python\\python313\\lib\\site-packages (from pandas) (2.9.0.post0)\n",
      "Requirement already satisfied: pytz>=2020.1 in c:\\users\\l01033936\\appdata\\local\\programs\\python\\python313\\lib\\site-packages (from pandas) (2024.2)\n",
      "Requirement already satisfied: tzdata>=2022.7 in c:\\users\\l01033936\\appdata\\local\\programs\\python\\python313\\lib\\site-packages (from pandas) (2024.2)\n",
      "Requirement already satisfied: six>=1.5 in c:\\users\\l01033936\\appdata\\local\\programs\\python\\python313\\lib\\site-packages (from python-dateutil>=2.8.2->pandas) (1.16.0)\n"
     ]
    },
    {
     "name": "stderr",
     "output_type": "stream",
     "text": [
      "\n",
      "[notice] A new release of pip is available: 24.2 -> 24.3.1\n",
      "[notice] To update, run: python.exe -m pip install --upgrade pip\n"
     ]
    },
    {
     "name": "stdout",
     "output_type": "stream",
     "text": [
      "Requirement already satisfied: matplotlib in c:\\users\\l01033936\\appdata\\local\\programs\\python\\python313\\lib\\site-packages (3.9.3)\n",
      "Requirement already satisfied: contourpy>=1.0.1 in c:\\users\\l01033936\\appdata\\local\\programs\\python\\python313\\lib\\site-packages (from matplotlib) (1.3.1)\n",
      "Requirement already satisfied: cycler>=0.10 in c:\\users\\l01033936\\appdata\\local\\programs\\python\\python313\\lib\\site-packages (from matplotlib) (0.12.1)\n",
      "Requirement already satisfied: fonttools>=4.22.0 in c:\\users\\l01033936\\appdata\\local\\programs\\python\\python313\\lib\\site-packages (from matplotlib) (4.55.1)\n",
      "Requirement already satisfied: kiwisolver>=1.3.1 in c:\\users\\l01033936\\appdata\\local\\programs\\python\\python313\\lib\\site-packages (from matplotlib) (1.4.7)\n",
      "Requirement already satisfied: numpy>=1.23 in c:\\users\\l01033936\\appdata\\local\\programs\\python\\python313\\lib\\site-packages (from matplotlib) (2.1.3)\n",
      "Requirement already satisfied: packaging>=20.0 in c:\\users\\l01033936\\appdata\\local\\programs\\python\\python313\\lib\\site-packages (from matplotlib) (24.1)\n",
      "Requirement already satisfied: pillow>=8 in c:\\users\\l01033936\\appdata\\local\\programs\\python\\python313\\lib\\site-packages (from matplotlib) (11.0.0)\n",
      "Requirement already satisfied: pyparsing>=2.3.1 in c:\\users\\l01033936\\appdata\\local\\programs\\python\\python313\\lib\\site-packages (from matplotlib) (3.2.0)\n",
      "Requirement already satisfied: python-dateutil>=2.7 in c:\\users\\l01033936\\appdata\\local\\programs\\python\\python313\\lib\\site-packages (from matplotlib) (2.9.0.post0)\n",
      "Requirement already satisfied: six>=1.5 in c:\\users\\l01033936\\appdata\\local\\programs\\python\\python313\\lib\\site-packages (from python-dateutil>=2.7->matplotlib) (1.16.0)\n"
     ]
    },
    {
     "name": "stderr",
     "output_type": "stream",
     "text": [
      "\n",
      "[notice] A new release of pip is available: 24.2 -> 24.3.1\n",
      "[notice] To update, run: python.exe -m pip install --upgrade pip\n"
     ]
    },
    {
     "name": "stdout",
     "output_type": "stream",
     "text": [
      "Collecting iminuit\n",
      "  Downloading iminuit-2.30.1-cp313-cp313-win_amd64.whl.metadata (12 kB)\n",
      "Requirement already satisfied: numpy>=1.21 in c:\\users\\l01033936\\appdata\\local\\programs\\python\\python313\\lib\\site-packages (from iminuit) (2.1.3)\n",
      "Downloading iminuit-2.30.1-cp313-cp313-win_amd64.whl (369 kB)\n",
      "Installing collected packages: iminuit\n",
      "Successfully installed iminuit-2.30.1\n"
     ]
    },
    {
     "name": "stderr",
     "output_type": "stream",
     "text": [
      "\n",
      "[notice] A new release of pip is available: 24.2 -> 24.3.1\n",
      "[notice] To update, run: python.exe -m pip install --upgrade pip\n"
     ]
    },
    {
     "name": "stdout",
     "output_type": "stream",
     "text": [
      "Collecting scipy\n",
      "  Downloading scipy-1.14.1-cp313-cp313-win_amd64.whl.metadata (60 kB)\n",
      "Requirement already satisfied: numpy<2.3,>=1.23.5 in c:\\users\\l01033936\\appdata\\local\\programs\\python\\python313\\lib\\site-packages (from scipy) (2.1.3)\n",
      "Downloading scipy-1.14.1-cp313-cp313-win_amd64.whl (44.5 MB)\n",
      "   ---------------------------------------- 0.0/44.5 MB ? eta -:--:--\n",
      "   - -------------------------------------- 2.1/44.5 MB 13.9 MB/s eta 0:00:04\n",
      "   ------ --------------------------------- 7.1/44.5 MB 19.7 MB/s eta 0:00:02\n",
      "   ---------- ----------------------------- 11.3/44.5 MB 19.4 MB/s eta 0:00:02\n",
      "   -------------- ------------------------- 15.7/44.5 MB 20.2 MB/s eta 0:00:02\n",
      "   ------------------ --------------------- 20.7/44.5 MB 21.1 MB/s eta 0:00:02\n",
      "   --------------------- ------------------ 23.9/44.5 MB 20.0 MB/s eta 0:00:02\n",
      "   ------------------------ --------------- 26.7/44.5 MB 19.0 MB/s eta 0:00:01\n",
      "   -------------------------- ------------- 29.9/44.5 MB 18.5 MB/s eta 0:00:01\n",
      "   ------------------------------ --------- 33.6/44.5 MB 18.3 MB/s eta 0:00:01\n",
      "   --------------------------------- ------ 37.5/44.5 MB 18.4 MB/s eta 0:00:01\n",
      "   ------------------------------------- -- 41.4/44.5 MB 18.5 MB/s eta 0:00:01\n",
      "   ---------------------------------------  44.3/44.5 MB 18.7 MB/s eta 0:00:01\n",
      "   ---------------------------------------- 44.5/44.5 MB 17.7 MB/s eta 0:00:00\n",
      "Installing collected packages: scipy\n",
      "Successfully installed scipy-1.14.1\n"
     ]
    },
    {
     "name": "stderr",
     "output_type": "stream",
     "text": [
      "\n",
      "[notice] A new release of pip is available: 24.2 -> 24.3.1\n",
      "[notice] To update, run: python.exe -m pip install --upgrade pip\n"
     ]
    }
   ],
   "source": [
    "!pip install numpy\n",
    "!pip install pandas\n",
    "!pip install matplotlib\n",
    "!pip install iminuit\n",
    "!pip install scipy"
   ]
  },
  {
   "cell_type": "markdown",
   "id": "594982d4",
   "metadata": {},
   "source": [
    "## 1. Importar paqueterías  \n",
    "El código en este tutorial está escrito en python3.\n",
    "Por lo tanto, importemos las librerías básicas que usaremos."
   ]
  },
  {
   "cell_type": "code",
   "execution_count": 7,
   "id": "0430d2f6",
   "metadata": {},
   "outputs": [],
   "source": [
    "import numpy as np\n",
    "import pandas as pd\n",
    "import matplotlib.pyplot as plt\n",
    "from iminuit import Minuit\n",
    "from scipy.stats import norm, shapiro"
   ]
  },
  {
   "cell_type": "markdown",
   "id": "0b27e84b",
   "metadata": {},
   "source": [
    "## 2. Definir los números cuánticos\n",
    "Vivimos en un mundo cuántico en donde todo esta regido por números que toman valores estrictamente discretos...\n",
    "\n",
    "Usemos arreglos de numpy para definir los valores que toman estos números de spin, sabor, spin-orbita.\n",
    "\n",
    "**Ejercicio:** Analizar el significado de estos números."
   ]
  },
  {
   "cell_type": "code",
   "execution_count": 51,
   "id": "9550403f",
   "metadata": {},
   "outputs": [],
   "source": [
    "w_om=1.732050808 # omega_lam\n",
    "param_v          = np.array([0.00, w_om, w_om, w_om, w_om,   0.00, 0.00, w_om,   0.00, 0.00, w_om,   0.00, w_om, w_om,   0.00, w_om]) # coef infront kprim_c\n",
    "param_w          = np.array([0.75, 0.75, 0.75, 3.75, 3.75,   0.75, 3.75, 3.75,   0.75, 3.75, 0.75,   0.75, 0.75, 0.75,   0.75, 0.75]) # coef infront A\n",
    "param_x          = np.array([0.00, -1.0, 0.50, -2.5, -1.0,   0.00, 0.00, 1.50,   0.00, 0.00, -1.0,   0.00, -1.0, 0.50,   0.00, 0.50]) # coef infront B\n",
    "param_y          = np.array([0.00, 0.00, 0.00, 0.00, 0.00,   0.75, 0.75, 0.75,   2.00, 2.00, 2.00,   0.00, 0.00, 0.00,   0.75, 0.75]) # coef infront E\n",
    "param_z          = np.array([10/3, 10/3, 10/3, 10/3, 10/3,   10/3, 10/3, 10/3,   10/3, 10/3, 10/3,   4/3 , 4/3 , 4/3 ,   4/3 , 4/3 ]) # coef infront G    \n",
    "# quark content\n",
    "param_q1         = np.array([1.00, 1.00, 1.00, 1.00, 1.00,   1.00, 1.00, 1.00,   1.00, 1.00, 1.00,   1.00, 1.00, 1.00,   1.00, 1.00]) # coef m1 heavy quark\n",
    "param_q2         = np.array([2.00, 2.00, 2.00, 2.00, 2.00,   1.00, 1.00, 1.00,   0.00, 0.00, 0.00,   0.00, 0.00, 0.00,   1.00, 1.00]) # coef m2 strange quark\n",
    "param_q3         = np.array([0.00, 0.00, 0.00, 0.00, 0.00,   1.00, 1.00, 1.00,   2.00, 2.00, 2.00,   2.00, 2.00, 2.00,   1.00, 1.00]) # coef m3 light quark\n",
    "# harmonic oscillator mode\n",
    "param_is_rho     = np.array([9.99, 0.00, 0.00, 0.00, 0.00,   9.99, 9.99, 0.00,   9.99, 9.99, 0.00,   9.99, 0.00, 0.00,   9.99, 0.00]) # coef kp\n",
    "param_is_lam     = np.array([9.99, 1.00, 1.00, 1.00, 1.00,   9.99, 9.99, 1.00,   9.99, 9.99, 1.00,   9.99, 1.00, 1.00,   9.99, 1.00]) # coef kp\n",
    "# kind of baryon\n",
    "param_is_omega   = np.array([1.00, 1.00, 1.00, 1.00, 1.00,   0.00, 0.00, 0.00,   0.00, 0.00, 0.00,   0.00, 0.00, 0.00,   0.00, 0.00]) # coef kp\n",
    "param_is_cascade = np.array([0.00, 0.00, 0.00, 0.00, 0.00,   1.00, 1.00, 1.00,   0.00, 0.00, 0.00,   0.00, 0.00, 0.00,   1.00, 1.00]) # coef kp\n",
    "param_is_sigma   = np.array([0.00, 0.00, 0.00, 0.00, 0.00,   0.00, 0.00, 0.00,   1.00, 1.00, 1.00,   1.00, 1.00, 1.00,   0.00, 0.00]) # coef kp"
   ]
  },
  {
   "cell_type": "markdown",
   "id": "974ab0cb",
   "metadata": {},
   "source": [
    "## 3. Definir el modelo fenomenológico\n",
    "Como se mencionó, se propone un modelo fenomenológico para describir la masa-energía de los bariones pesados.\n",
    "\n",
    "Este modelo esta parámetrizado, es decir, usa factores multiplicativos relacionados con los números cuánticos.\n",
    "En este modelo estos parámetros, son las masas de los quarks, la constante del resorte del oscilador, y los factores relacionados con el spin, spin-orbita, sabor.\n",
    "\n",
    "**Ejercicio:** Analizar y en entender la siguiente función."
   ]
  },
  {
   "cell_type": "code",
   "execution_count": 52,
   "id": "cbcc1289",
   "metadata": {},
   "outputs": [],
   "source": [
    "def model(q1, q2, q3, is_rho, is_lam, is_omega, is_cascade, is_sigma, v, w, x, y, z, m1, m2, m3, k, a, b, e, g):\n",
    "    \"\"\"\n",
    "    mass model, m1 == heavy, m2== strange, m3 == light\n",
    "    \"\"\"\n",
    "    return q1*m1 + q2*m2 + q3*m3 + \\\n",
    "        v*k*np.sqrt(1./(is_rho*(is_omega*m2 + is_cascade*((m2+m3)/2) + is_sigma*m3 ) + \\\n",
    "                        is_lam*(is_omega*((3*m2*m1)/(2.*m2+m1)) + is_cascade*((1.5*(m2+m3)*m1)/(m1+m2+m3)) + is_sigma*((3.*m3*m1)/(2.*m3+m1)) ) )) + \\\n",
    "                  w*a + x*b + y*e + z*g"
   ]
  },
  {
   "cell_type": "markdown",
   "id": "dce41f36",
   "metadata": {},
   "source": [
    "## 4. Definir la suma de diferencias al cuadrado\n",
    "Ahora pasemos a la parte de ciencia de datos o estadística.\n",
    "Una de las formas más eficientes para ajustar o encontrar parámetros en un modelo, es mediante la minimización de la diferencia entre nuestra predicción del modelo y el mundo real (donde se mide).\n",
    "Por esta razón se usa el conocido mínimos cuadrados y se minimiza en función de los parámetros.\n",
    "\n",
    "**Ejercicio**: Analizar y estudiar la siguiente función de mínimos cuadrados. Identifique cuales son los parámetros que se buscan encontrar."
   ]
  },
  {
   "cell_type": "code",
   "execution_count": 53,
   "id": "08160d93",
   "metadata": {},
   "outputs": [],
   "source": [
    "def least_squares(m1, m2, m3, k, a, b, e, g):\n",
    "    yvar_2 = 0.001\n",
    "    pred_m = model(param_q1, param_q2, param_q3, param_is_rho, param_is_lam,\n",
    "                   param_is_omega, param_is_cascade, param_is_sigma, param_v,\n",
    "                   param_w, param_x, param_y, param_z,\n",
    "                   m1, m2, m3, k, a, b, e, g)\n",
    "    yval_2 = np.power( (pred_m - exp_m), 2)\n",
    "    return np.sum( np.divide(yval_2, yvar_2) )"
   ]
  },
  {
   "cell_type": "markdown",
   "id": "0940ae3d",
   "metadata": {},
   "source": [
    "## 5. Definir el ajustador\n",
    "En la práctica, tenemos software que hace la minimización por nosotros. Es decir, aunque es muy instructivo hacer la minimización a mano con cálculo diferencial, aquí usamos el software iMinuit para lograr esta minimización.\n",
    "\n",
    "**Ejercicio**: Analizar y estudiar la siguiente función minimización. Identifique cuales son los parámetros que se buscan encontrar y explique la definición de los rangos de las masas de los quarks.\n",
    "\n"
   ]
  },
  {
   "cell_type": "code",
   "execution_count": 54,
   "id": "c545bb08",
   "metadata": {},
   "outputs": [],
   "source": [
    "def fit(least_squares):\n",
    "    m = Minuit(least_squares, m1=1, m2=1, m3=1, k=0, a=0, b=0, e=0, g=0)#1400, m2=300, m3=250, k=0, a=0, b=0, e=0, g=0)\n",
    "    m.limits['m1'] = (4000, 6000)\n",
    "    m.limits['m2'] = (400, 470)\n",
    "    m.limits['m3'] = (250, 300)\n",
    "    m.errordef=Minuit.LEAST_SQUARES\n",
    "    m.migrad()\n",
    "    return m"
   ]
  },
  {
   "cell_type": "markdown",
   "id": "1104f030",
   "metadata": {},
   "source": [
    "## 6. Definir las funciones de probabilidad\n",
    "En esta parte definimos las distribuciones que suponemos van a describir las observaciones experimentales.\n",
    "\n",
    "Usamos la distribución Gaussiana por el hecho que los experimentos de altas energías reportan sus resultados como el valor medio del ajuste de lo que se mide a una Gaussiana.\n",
    "\n",
    "**Ejercicio**: Estudie las siguientes funciones. Indique por que se están definiendo dos funciones, explique su utilidad.\n"
   ]
  },
  {
   "cell_type": "code",
   "execution_count": 55,
   "id": "b824e2ac",
   "metadata": {},
   "outputs": [],
   "source": [
    "def sample_gauss(mu, sigma):\n",
    "    return np.random.normal(mu, sigma, 10000)\n",
    "\n",
    "def random(sample, random_n=1):\n",
    "    return np.random.choice(sample, size=None)"
   ]
  },
  {
   "cell_type": "markdown",
   "id": "fba3cfbd",
   "metadata": {},
   "source": [
    "## 7. Definir los datos reales provenientes de los experimentos LHCb y Belle\n",
    "\n",
    "**Ejercicio**: Encuentre en el sitio web Particle Data Group los datos de bariones bottom. Compruebe que los datos que se están usando en este tutorial coinciden con lo reportado experimentalmente."
   ]
  },
  {
   "cell_type": "code",
   "execution_count": 56,
   "id": "2040d44c",
   "metadata": {},
   "outputs": [],
   "source": [
    "sigma_model = 12.47**2 # obtained with optimization (Li.Jin)\n",
    "# gaussian pdf with the measured value and with experimental and model(sigma_model) uncertainties\n",
    "# Omegas\n",
    "gauss_6061 = sample_gauss(6045.2, np.power((1.20**2 + sigma_model), 0.5 )) # PDG::Direct\n",
    "gauss_6316 = sample_gauss(6315.6, np.power((0.60**2 + sigma_model), 0.5 )) # PDG::Direct \n",
    "gauss_6330 = sample_gauss(6330.3, np.power((0.60**2 + sigma_model), 0.5 )) # PDG::Direct\n",
    "gauss_6340 = sample_gauss(6339.7, np.power((0.60**2 + sigma_model), 0.5 )) # PDG::Direct\n",
    "gauss_6350 = sample_gauss(6349.8, np.power((0.60**2 + sigma_model), 0.5 )) # PDG::Direct\n",
    "# Cascade b sextet\n",
    "gauss_5935 = sample_gauss(5935.0, np.power((0.05**2 + sigma_model), 0.5 )) # PDG::Direct\n",
    "gauss_5953 = sample_gauss(5953.8, np.power((1.62**2 + sigma_model), 0.5 )) # PDG::Average\n",
    "gauss_6328 = sample_gauss(6227.4, np.power((1.69**2 + sigma_model), 0.5 )) # PDG::Average (decided to be cascade prime)\n",
    "# Sigma b\n",
    "gauss_5813 = sample_gauss(5813.1, np.power((2.55**2 + sigma_model), 0.5 )) # PDG::Average\n",
    "gauss_5837 = sample_gauss(5832.5, np.power((2.23**2 + sigma_model), 0.5 )) # PDG::Average\n",
    "gauss_6097 = sample_gauss(6096.9, np.power((2.10**2 + sigma_model), 0.5 )) # PDG::Average\n",
    "# Lambda b\n",
    "gauss_5617 = sample_gauss(5619.6, np.power((0.17**2 + sigma_model), 0.5 )) # PDG::Direct\n",
    "gauss_5912 = sample_gauss(5912.2, np.power((0.17**2 + sigma_model), 0.5 )) # PDG::Direct\n",
    "gauss_5920 = sample_gauss(5920.1, np.power((0.17**2 + sigma_model), 0.5 )) # PDG::Direct\n",
    "gauss_6146 = sample_gauss(6146.2, np.power((0.40**2 + sigma_model), 0.5 )) # PDG::Direct (not in the fit)\n",
    "gauss_6152 = sample_gauss(6152.5, np.power((0.40**2 + sigma_model), 0.5 )) # PDG::Direct (not in the fit)\n",
    "gauss_6070 = sample_gauss(6072.3, np.power((2.90**2 + sigma_model), 0.5 )) # PDG::Direct (not in the fit)\n",
    "# Cascades b anti-3-plet\n",
    "gauss_5794 = sample_gauss(5794.5, np.power((2.61**2 + sigma_model), 0.5 )) # PDG::Average\n",
    "gauss_6100 = sample_gauss(6100.3, np.power((0.60**2 + sigma_model), 0.5 )) # PDG::Direct\n",
    "gauss_6327 = sample_gauss(6329.9, np.power((2.72**2 + sigma_model), 0.5 )) # LHCB::Average (not in the fit)"
   ]
  },
  {
   "cell_type": "markdown",
   "id": "c34a73f9",
   "metadata": {},
   "source": [
    "## 8. Ejecutar la simulación\n",
    "\n",
    "**Ejercicio**: Encontrar un número de eventos razonable para obtener suficiente cantidad de datos."
   ]
  },
  {
   "cell_type": "code",
   "execution_count": 57,
   "id": "04a5d0c9",
   "metadata": {},
   "outputs": [],
   "source": [
    "# number of events to simulate\n",
    "n_events = 100\n",
    "\n",
    "# arrays to store the sampled parameters\n",
    "sampled_k,sampled_a,sampled_b,sampled_e,sampled_g = ([]),([]),([]),([]),([])\n",
    "sampled_m1,sampled_m2,sampled_m3 = ([]),([]),([])\n",
    "\n",
    "count = 0\n",
    "# construct the sampling distribution MONTE CARLO simulation\n",
    "for i in range(n_events):\n",
    "    \n",
    "    exp_m = np.array([ # measured baryon masses\n",
    "        # omegas\n",
    "        random(gauss_6061),\n",
    "        random(gauss_6316),\n",
    "        random(gauss_6330),\n",
    "        random(gauss_6340),\n",
    "        random(gauss_6350),\n",
    "        # Cascade \n",
    "        random(gauss_5935),\n",
    "        random(gauss_5953),\n",
    "        random(gauss_6328),\n",
    "        # Sigma b         \n",
    "        random(gauss_5813),\n",
    "        random(gauss_5837),\n",
    "        random(gauss_6097),\n",
    "        # Lambda b\n",
    "        random(gauss_5617),\n",
    "        random(gauss_5912),\n",
    "        random(gauss_5920),\n",
    "        # Cascades\n",
    "        random(gauss_5794),\n",
    "        random(gauss_6100),\n",
    "    ])    \n",
    "    # perform the parameter fitting (via minimizing squared distance)\n",
    "    m = fit(least_squares)\n",
    "    \n",
    "    if type(m.covariance) != type(None):\n",
    "        count += 1\n",
    "    else:\n",
    "        continue\n",
    "\n",
    "    sampled_m1 = np.append(sampled_m1, m.values['m1'])\n",
    "    sampled_m2 = np.append(sampled_m2, m.values['m2'])\n",
    "    sampled_m3 = np.append(sampled_m3, m.values['m3'])\n",
    "\n",
    "    sampled_k = np.append(sampled_k, m.values['k'])\n",
    "    sampled_a = np.append(sampled_a, m.values['a'])\n",
    "    sampled_b = np.append(sampled_b, m.values['b'])\n",
    "    sampled_e = np.append(sampled_e, m.values['e'])\n",
    "    sampled_g = np.append(sampled_g, m.values['g'])"
   ]
  },
  {
   "cell_type": "markdown",
   "id": "838381c4",
   "metadata": {},
   "source": [
    "## 9. Visualizar resultados"
   ]
  },
  {
   "cell_type": "code",
   "execution_count": 58,
   "id": "e9d94400",
   "metadata": {},
   "outputs": [
    {
     "data": {
      "image/png": "[encoded data removed]",
      "text/plain": [
       "<Figure size 800x600 with 1 Axes>"
      ]
     },
     "metadata": {},
     "output_type": "display_data"
    },
    {
     "name": "stdout",
     "output_type": "stream",
     "text": [
      "4929 mb 16\n",
      "464 ms 8\n",
      "298 mn 6\n",
      "K 0.02552658439108691 KB 1.3244038240919638e-05\n",
      "A 9.514869316103676  PS  2.464909698915887\n",
      "B 4.031147066779167  PSL  4.108197446040931\n",
      "E 35.2760849400328  PI   6.56353464227251\n",
      "G 59.8164460370601  PF  5.172026557319575\n"
     ]
    }
   ],
   "source": [
    "# save bootstrap results\n",
    "df = pd.DataFrame({\"M1\" : sampled_m1,\"M2\" : sampled_m2,\"M3\" : sampled_m3,\n",
    "                   \"K\" : sampled_k,   \"A\" : sampled_a,\n",
    "                   \"B\": sampled_b,    \"E\" : sampled_e, \"G\" : sampled_g})\n",
    "df.to_csv(\"heavy_baryon_data.csv\")\n",
    "\n",
    "# Plotting the histogram\n",
    "plt.figure(figsize=(8, 6))  # Optional: set the figure size\n",
    "plt.hist(df['A'], bins=50, edgecolor='black')\n",
    "# Adding labels and title\n",
    "plt.xlabel('Spin coefficient')\n",
    "plt.ylabel('Frequency')\n",
    "plt.title('Histogram of spin coeff')\n",
    "# Show the plot\n",
    "plt.show()\n",
    "\n",
    "print(round(sampled_m1.mean()), \"mb\",  round(sampled_m1.std()) )\n",
    "print(round(sampled_m2.mean()), \"ms\",  round(sampled_m2.std()) )\n",
    "print(round(sampled_m3.mean()), \"mn\",  round(sampled_m3.std()) )\n",
    "\n",
    "print(\"K\", pow(sampled_k.mean(), 2)/(1000**3),  \"KB\", pow(sampled_k.std(), 2)/(1000**3))\n",
    "print(\"A\", sampled_a.mean(), \" PS \",  sampled_a.std())\n",
    "print(\"B\", sampled_b.mean(), \" PSL \", sampled_b.std())\n",
    "print(\"E\", sampled_e.mean(), \" PI  \", sampled_e.std())\n",
    "print(\"G\", sampled_g.mean(), \" PF \",  sampled_g.std())"
   ]
  },
  {
   "cell_type": "markdown",
   "id": "02a9ecbe",
   "metadata": {},
   "source": [
    "## 10. Revisemos el comportamiento estadístico de nuestros datos"
   ]
  },
  {
   "cell_type": "code",
   "execution_count": 59,
   "id": "b1afb5c9",
   "metadata": {},
   "outputs": [
    {
     "data": {
      "image/png": "[encoded data removed]",
      "text/plain": [
       "<Figure size 800x600 with 1 Axes>"
      ]
     },
     "metadata": {},
     "output_type": "display_data"
    },
    {
     "name": "stdout",
     "output_type": "stream",
     "text": [
      "Reject the null hypothesis (data does not follow a Gaussian distribution).\n"
     ]
    }
   ],
   "source": [
    "# calculate mean and standard deviation\n",
    "mu, std = norm.fit(df['A'])\n",
    "\n",
    "# perform the Shapiro-Wilk test for normality\n",
    "stat, p_value = shapiro(df['A'])\n",
    "\n",
    "# preate a histogram\n",
    "plt.figure(figsize=(8, 6))\n",
    "count, bins, ignored = plt.hist(df['A'], bins=50, density=True, alpha=0.6, color='g', edgecolor='black')\n",
    "\n",
    "# Plot the Gaussian fit\n",
    "xmin, xmax = plt.xlim()\n",
    "x = np.linspace(xmin, xmax, 100)\n",
    "p = norm.pdf(x, mu, std)\n",
    "plt.plot(x, p, 'k', linewidth=2)\n",
    "\n",
    "# Add text for mean, std, and p-value\n",
    "plt.text(0.95, 0.85, f'Mean: {mu:.2f}', transform=plt.gca().transAxes, fontsize=12, verticalalignment='top')\n",
    "plt.text(0.95, 0.80, f'Std Dev: {std:.2f}', transform=plt.gca().transAxes, fontsize=12, verticalalignment='top')\n",
    "plt.text(0.95, 0.75, f'p-value: {p_value:.3f}', transform=plt.gca().transAxes, fontsize=12, verticalalignment='top')\n",
    "\n",
    "# Add labels and title\n",
    "plt.xlabel('Values')\n",
    "plt.ylabel('Density')\n",
    "plt.title('Histogram with Gaussian Fit and Normality Test')\n",
    "\n",
    "# Show the plot\n",
    "plt.show()\n",
    "\n",
    "\n",
    "# hypothesis test result\n",
    "alpha = 0.05  # significance level\n",
    "if p_value > alpha:\n",
    "    print(\"Fail to reject the null hypothesis (data follows a Gaussian distribution).\")\n",
    "else:\n",
    "    print(\"Reject the null hypothesis (data does not follow a Gaussian distribution).\")"
   ]
  },
  {
   "cell_type": "code",
   "execution_count": null,
   "id": "5e5e6fe4",
   "metadata": {},
   "outputs": [],
   "source": []
  }
 ],
 "metadata": {
  "kernelspec": {
   "display_name": "Python 3 (ipykernel)",
   "language": "python",
   "name": "python3"
  },
  "language_info": {
   "codemirror_mode": {
    "name": "ipython",
    "version": 3
   },
   "file_extension": ".py",
   "mimetype": "text/x-python",
   "name": "python",
   "nbconvert_exporter": "python",
   "pygments_lexer": "ipython3",
   "version": "3.13.0"
  }
 },
 "nbformat": 4,
 "nbformat_minor": 5
}
